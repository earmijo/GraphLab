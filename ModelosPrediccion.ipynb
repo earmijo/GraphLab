{
 "cells": [
  {
   "cell_type": "markdown",
   "metadata": {},
   "source": [
    "# Modelos de Prediccion"
   ]
  },
  {
   "cell_type": "code",
   "execution_count": 1,
   "metadata": {
    "collapsed": true
   },
   "outputs": [],
   "source": [
    "import graphlab as gl"
   ]
  },
  {
   "cell_type": "code",
   "execution_count": 2,
   "metadata": {
    "collapsed": false
   },
   "outputs": [
    {
     "name": "stderr",
     "output_type": "stream",
     "text": [
      "[INFO] graphlab.cython.cy_server: GraphLab Create v2.1 started. Logging: /tmp/graphlab_server_1497462821.log\n"
     ]
    },
    {
     "name": "stdout",
     "output_type": "stream",
     "text": [
      "This non-commercial license of GraphLab Create for academic use is assigned to Carlos.Quintanilla@incae.edu and will expire on May 30, 2018.\n"
     ]
    }
   ],
   "source": [
    "data = gl.load_sframe('/Users/CarlosQ/Desktop/Casas')"
   ]
  },
  {
   "cell_type": "markdown",
   "metadata": {},
   "source": [
    "Ahora vamos a designar el vector con la variable dependiente y la matriz con las independientes \n",
    "\n"
   ]
  },
  {
   "cell_type": "code",
   "execution_count": 3,
   "metadata": {
    "collapsed": false
   },
   "outputs": [
    {
     "data": {
      "text/plain": [
       "['HomeID',\n",
       " 'Price',\n",
       " 'SqFt',\n",
       " 'Bedrooms',\n",
       " 'Bathrooms',\n",
       " 'Offers',\n",
       " 'Brick',\n",
       " 'Neighborhood']"
      ]
     },
     "execution_count": 3,
     "metadata": {},
     "output_type": "execute_result"
    }
   ],
   "source": [
    "data.column_names()"
   ]
  },
  {
   "cell_type": "code",
   "execution_count": 4,
   "metadata": {
    "collapsed": true
   },
   "outputs": [],
   "source": [
    "# Make a train-test split\n",
    "train_data, test_data = data.random_split(0.8)"
   ]
  },
  {
   "cell_type": "markdown",
   "metadata": {},
   "source": [
    "## Lineal Regression"
   ]
  },
  {
   "cell_type": "code",
   "execution_count": 5,
   "metadata": {
    "collapsed": false
   },
   "outputs": [
    {
     "data": {
      "text/html": [
       "<pre>Linear regression:</pre>"
      ],
      "text/plain": [
       "Linear regression:"
      ]
     },
     "metadata": {},
     "output_type": "display_data"
    },
    {
     "data": {
      "text/html": [
       "<pre>--------------------------------------------------------</pre>"
      ],
      "text/plain": [
       "--------------------------------------------------------"
      ]
     },
     "metadata": {},
     "output_type": "display_data"
    },
    {
     "data": {
      "text/html": [
       "<pre>Number of examples          : 106</pre>"
      ],
      "text/plain": [
       "Number of examples          : 106"
      ]
     },
     "metadata": {},
     "output_type": "display_data"
    },
    {
     "data": {
      "text/html": [
       "<pre>Number of features          : 6</pre>"
      ],
      "text/plain": [
       "Number of features          : 6"
      ]
     },
     "metadata": {},
     "output_type": "display_data"
    },
    {
     "data": {
      "text/html": [
       "<pre>Number of unpacked features : 6</pre>"
      ],
      "text/plain": [
       "Number of unpacked features : 6"
      ]
     },
     "metadata": {},
     "output_type": "display_data"
    },
    {
     "data": {
      "text/html": [
       "<pre>Number of coefficients    : 8</pre>"
      ],
      "text/plain": [
       "Number of coefficients    : 8"
      ]
     },
     "metadata": {},
     "output_type": "display_data"
    },
    {
     "data": {
      "text/html": [
       "<pre>Starting Newton Method</pre>"
      ],
      "text/plain": [
       "Starting Newton Method"
      ]
     },
     "metadata": {},
     "output_type": "display_data"
    },
    {
     "data": {
      "text/html": [
       "<pre>--------------------------------------------------------</pre>"
      ],
      "text/plain": [
       "--------------------------------------------------------"
      ]
     },
     "metadata": {},
     "output_type": "display_data"
    },
    {
     "data": {
      "text/html": [
       "<pre>+-----------+----------+--------------+--------------------+---------------+</pre>"
      ],
      "text/plain": [
       "+-----------+----------+--------------+--------------------+---------------+"
      ]
     },
     "metadata": {},
     "output_type": "display_data"
    },
    {
     "data": {
      "text/html": [
       "<pre>| Iteration | Passes   | Elapsed Time | Training-max_error | Training-rmse |</pre>"
      ],
      "text/plain": [
       "| Iteration | Passes   | Elapsed Time | Training-max_error | Training-rmse |"
      ]
     },
     "metadata": {},
     "output_type": "display_data"
    },
    {
     "data": {
      "text/html": [
       "<pre>+-----------+----------+--------------+--------------------+---------------+</pre>"
      ],
      "text/plain": [
       "+-----------+----------+--------------+--------------------+---------------+"
      ]
     },
     "metadata": {},
     "output_type": "display_data"
    },
    {
     "data": {
      "text/html": [
       "<pre>| 1         | 2        | 1.001320     | 27542.763319       | 9932.417673   |</pre>"
      ],
      "text/plain": [
       "| 1         | 2        | 1.001320     | 27542.763319       | 9932.417673   |"
      ]
     },
     "metadata": {},
     "output_type": "display_data"
    },
    {
     "data": {
      "text/html": [
       "<pre>+-----------+----------+--------------+--------------------+---------------+</pre>"
      ],
      "text/plain": [
       "+-----------+----------+--------------+--------------------+---------------+"
      ]
     },
     "metadata": {},
     "output_type": "display_data"
    },
    {
     "data": {
      "text/html": [
       "<pre>SUCCESS: Optimal solution found.</pre>"
      ],
      "text/plain": [
       "SUCCESS: Optimal solution found."
      ]
     },
     "metadata": {},
     "output_type": "display_data"
    },
    {
     "data": {
      "text/html": [
       "<pre></pre>"
      ],
      "text/plain": []
     },
     "metadata": {},
     "output_type": "display_data"
    }
   ],
   "source": [
    "# Create a model.\n",
    "model = gl.linear_regression.create(train_data, target='Price',\n",
    "                                    features = ['SqFt',\n",
    " 'Bedrooms',\n",
    " 'Bathrooms',\n",
    " 'Offers',\n",
    " 'Brick',\n",
    " 'Neighborhood'],validation_set=None)"
   ]
  },
  {
   "cell_type": "code",
   "execution_count": 6,
   "metadata": {
    "collapsed": true
   },
   "outputs": [],
   "source": [
    "# Save predictions to an SFrame (class and corresponding class-probabilities)\n",
    "predictions = model.predict(test_data)"
   ]
  },
  {
   "cell_type": "code",
   "execution_count": 7,
   "metadata": {
    "collapsed": true
   },
   "outputs": [],
   "source": [
    "# Evaluate the model and save the results into a dictionary\n",
    "results = model.evaluate(test_data)"
   ]
  },
  {
   "cell_type": "code",
   "execution_count": 8,
   "metadata": {
    "collapsed": false
   },
   "outputs": [
    {
     "data": {
      "text/plain": [
       "{'max_error': 18813.090636927373, 'rmse': 8695.718183960209}"
      ]
     },
     "execution_count": 8,
     "metadata": {},
     "output_type": "execute_result"
    }
   ],
   "source": [
    "results"
   ]
  },
  {
   "cell_type": "markdown",
   "metadata": {},
   "source": [
    "## Arboles"
   ]
  },
  {
   "cell_type": "code",
   "execution_count": 9,
   "metadata": {
    "collapsed": false
   },
   "outputs": [
    {
     "data": {
      "text/html": [
       "<pre>Decision tree regression:</pre>"
      ],
      "text/plain": [
       "Decision tree regression:"
      ]
     },
     "metadata": {},
     "output_type": "display_data"
    },
    {
     "data": {
      "text/html": [
       "<pre>--------------------------------------------------------</pre>"
      ],
      "text/plain": [
       "--------------------------------------------------------"
      ]
     },
     "metadata": {},
     "output_type": "display_data"
    },
    {
     "data": {
      "text/html": [
       "<pre>Number of examples          : 106</pre>"
      ],
      "text/plain": [
       "Number of examples          : 106"
      ]
     },
     "metadata": {},
     "output_type": "display_data"
    },
    {
     "data": {
      "text/html": [
       "<pre>Number of features          : 6</pre>"
      ],
      "text/plain": [
       "Number of features          : 6"
      ]
     },
     "metadata": {},
     "output_type": "display_data"
    },
    {
     "data": {
      "text/html": [
       "<pre>Number of unpacked features : 6</pre>"
      ],
      "text/plain": [
       "Number of unpacked features : 6"
      ]
     },
     "metadata": {},
     "output_type": "display_data"
    },
    {
     "data": {
      "text/html": [
       "<pre>+-----------+--------------+--------------------+---------------+</pre>"
      ],
      "text/plain": [
       "+-----------+--------------+--------------------+---------------+"
      ]
     },
     "metadata": {},
     "output_type": "display_data"
    },
    {
     "data": {
      "text/html": [
       "<pre>| Iteration | Elapsed Time | Training-max_error | Training-rmse |</pre>"
      ],
      "text/plain": [
       "| Iteration | Elapsed Time | Training-max_error | Training-rmse |"
      ]
     },
     "metadata": {},
     "output_type": "display_data"
    },
    {
     "data": {
      "text/html": [
       "<pre>+-----------+--------------+--------------------+---------------+</pre>"
      ],
      "text/plain": [
       "+-----------+--------------+--------------------+---------------+"
      ]
     },
     "metadata": {},
     "output_type": "display_data"
    },
    {
     "data": {
      "text/html": [
       "<pre>| 1         | 0.002393     | 164471.812500      | 95909.820312  |</pre>"
      ],
      "text/plain": [
       "| 1         | 0.002393     | 164471.812500      | 95909.820312  |"
      ]
     },
     "metadata": {},
     "output_type": "display_data"
    },
    {
     "data": {
      "text/html": [
       "<pre>+-----------+--------------+--------------------+---------------+</pre>"
      ],
      "text/plain": [
       "+-----------+--------------+--------------------+---------------+"
      ]
     },
     "metadata": {},
     "output_type": "display_data"
    }
   ],
   "source": [
    "model2 = gl.decision_tree_regression.create(train_data,target='Price',\n",
    "                                    features = ['SqFt',\n",
    " 'Bedrooms',\n",
    " 'Bathrooms',\n",
    " 'Offers',\n",
    " 'Brick',\n",
    " 'Neighborhood'],\n",
    "  max_depth =  10,validation_set=None)"
   ]
  },
  {
   "cell_type": "code",
   "execution_count": 10,
   "metadata": {
    "collapsed": true
   },
   "outputs": [],
   "source": [
    "predictions2 = model2.predict(test_data)"
   ]
  },
  {
   "cell_type": "code",
   "execution_count": 11,
   "metadata": {
    "collapsed": true
   },
   "outputs": [],
   "source": [
    "results2 = model2.evaluate(test_data)"
   ]
  },
  {
   "cell_type": "code",
   "execution_count": 12,
   "metadata": {
    "collapsed": false
   },
   "outputs": [
    {
     "data": {
      "text/plain": [
       "{'max_error': 121884.43359375, 'rmse': 90718.97327559053}"
      ]
     },
     "execution_count": 12,
     "metadata": {},
     "output_type": "execute_result"
    }
   ],
   "source": [
    "results2"
   ]
  },
  {
   "cell_type": "code",
   "execution_count": 13,
   "metadata": {
    "collapsed": false
   },
   "outputs": [
    {
     "name": "stdout",
     "output_type": "stream",
     "text": [
      "Canvas is accessible via web browser at the URL: http://localhost:61673/index.html\n",
      "Opening Canvas in default web browser.\n"
     ]
    }
   ],
   "source": [
    "model2.show(view=\"Tree\", tree_id=0)"
   ]
  },
  {
   "cell_type": "code",
   "execution_count": 14,
   "metadata": {
    "collapsed": false
   },
   "outputs": [
    {
     "name": "stdout",
     "output_type": "stream",
     "text": [
      "Canvas is updated and available in a tab in the default browser.\n"
     ]
    }
   ],
   "source": [
    "model2.show()"
   ]
  },
  {
   "cell_type": "markdown",
   "metadata": {
    "collapsed": true
   },
   "source": [
    "## Gradient Boosted Trees"
   ]
  },
  {
   "cell_type": "code",
   "execution_count": 20,
   "metadata": {
    "collapsed": false
   },
   "outputs": [
    {
     "data": {
      "text/html": [
       "<pre>Boosted trees regression:</pre>"
      ],
      "text/plain": [
       "Boosted trees regression:"
      ]
     },
     "metadata": {},
     "output_type": "display_data"
    },
    {
     "data": {
      "text/html": [
       "<pre>--------------------------------------------------------</pre>"
      ],
      "text/plain": [
       "--------------------------------------------------------"
      ]
     },
     "metadata": {},
     "output_type": "display_data"
    },
    {
     "data": {
      "text/html": [
       "<pre>Number of examples          : 106</pre>"
      ],
      "text/plain": [
       "Number of examples          : 106"
      ]
     },
     "metadata": {},
     "output_type": "display_data"
    },
    {
     "data": {
      "text/html": [
       "<pre>Number of features          : 6</pre>"
      ],
      "text/plain": [
       "Number of features          : 6"
      ]
     },
     "metadata": {},
     "output_type": "display_data"
    },
    {
     "data": {
      "text/html": [
       "<pre>Number of unpacked features : 6</pre>"
      ],
      "text/plain": [
       "Number of unpacked features : 6"
      ]
     },
     "metadata": {},
     "output_type": "display_data"
    },
    {
     "data": {
      "text/html": [
       "<pre>+-----------+--------------+--------------------+---------------+</pre>"
      ],
      "text/plain": [
       "+-----------+--------------+--------------------+---------------+"
      ]
     },
     "metadata": {},
     "output_type": "display_data"
    },
    {
     "data": {
      "text/html": [
       "<pre>| Iteration | Elapsed Time | Training-max_error | Training-rmse |</pre>"
      ],
      "text/plain": [
       "| Iteration | Elapsed Time | Training-max_error | Training-rmse |"
      ]
     },
     "metadata": {},
     "output_type": "display_data"
    },
    {
     "data": {
      "text/html": [
       "<pre>+-----------+--------------+--------------------+---------------+</pre>"
      ],
      "text/plain": [
       "+-----------+--------------+--------------------+---------------+"
      ]
     },
     "metadata": {},
     "output_type": "display_data"
    },
    {
     "data": {
      "text/html": [
       "<pre>| 1         | 0.001751     | 164471.812500      | 95909.820312  |</pre>"
      ],
      "text/plain": [
       "| 1         | 0.001751     | 164471.812500      | 95909.820312  |"
      ]
     },
     "metadata": {},
     "output_type": "display_data"
    },
    {
     "data": {
      "text/html": [
       "<pre>| 2         | 0.004013     | 131383.546875      | 69037.625000  |</pre>"
      ],
      "text/plain": [
       "| 2         | 0.004013     | 131383.546875      | 69037.625000  |"
      ]
     },
     "metadata": {},
     "output_type": "display_data"
    },
    {
     "data": {
      "text/html": [
       "<pre>| 3         | 0.006438     | 106788.765625      | 50097.488281  |</pre>"
      ],
      "text/plain": [
       "| 3         | 0.006438     | 106788.765625      | 50097.488281  |"
      ]
     },
     "metadata": {},
     "output_type": "display_data"
    },
    {
     "data": {
      "text/html": [
       "<pre>| 4         | 0.008747     | 87071.148438       | 36699.582031  |</pre>"
      ],
      "text/plain": [
       "| 4         | 0.008747     | 87071.148438       | 36699.582031  |"
      ]
     },
     "metadata": {},
     "output_type": "display_data"
    },
    {
     "data": {
      "text/html": [
       "<pre>| 5         | 0.011966     | 71534.515625       | 27270.761719  |</pre>"
      ],
      "text/plain": [
       "| 5         | 0.011966     | 71534.515625       | 27270.761719  |"
      ]
     },
     "metadata": {},
     "output_type": "display_data"
    },
    {
     "data": {
      "text/html": [
       "<pre>| 6         | 0.015784     | 60797.796875       | 20692.363281  |</pre>"
      ],
      "text/plain": [
       "| 6         | 0.015784     | 60797.796875       | 20692.363281  |"
      ]
     },
     "metadata": {},
     "output_type": "display_data"
    },
    {
     "data": {
      "text/html": [
       "<pre>| 11        | 0.043152     | 25845.968750       | 6612.239746   |</pre>"
      ],
      "text/plain": [
       "| 11        | 0.043152     | 25845.968750       | 6612.239746   |"
      ]
     },
     "metadata": {},
     "output_type": "display_data"
    },
    {
     "data": {
      "text/html": [
       "<pre>| 51        | 0.221914     | 1850.437500        | 296.168396    |</pre>"
      ],
      "text/plain": [
       "| 51        | 0.221914     | 1850.437500        | 296.168396    |"
      ]
     },
     "metadata": {},
     "output_type": "display_data"
    },
    {
     "data": {
      "text/html": [
       "<pre>| 101       | 0.441676     | 1850.015625        | 295.644501    |</pre>"
      ],
      "text/plain": [
       "| 101       | 0.441676     | 1850.015625        | 295.644501    |"
      ]
     },
     "metadata": {},
     "output_type": "display_data"
    },
    {
     "data": {
      "text/html": [
       "<pre>+-----------+--------------+--------------------+---------------+</pre>"
      ],
      "text/plain": [
       "+-----------+--------------+--------------------+---------------+"
      ]
     },
     "metadata": {},
     "output_type": "display_data"
    }
   ],
   "source": [
    "model3 = gl.boosted_trees_regression.create(train_data, target='Price',\n",
    "  features = [\n",
    " 'SqFt',\n",
    " 'Bedrooms',\n",
    " 'Bathrooms',\n",
    " 'Offers',\n",
    " 'Brick',\n",
    " 'Neighborhood'],\n",
    "max_iterations=200,\n",
    "max_depth =  10,validation_set=None)"
   ]
  },
  {
   "cell_type": "code",
   "execution_count": 21,
   "metadata": {
    "collapsed": true
   },
   "outputs": [],
   "source": [
    "predictions3 = model3.predict(test_data)"
   ]
  },
  {
   "cell_type": "code",
   "execution_count": 22,
   "metadata": {
    "collapsed": true
   },
   "outputs": [],
   "source": [
    "results3 = model3.evaluate(test_data)"
   ]
  },
  {
   "cell_type": "code",
   "execution_count": 23,
   "metadata": {
    "collapsed": false
   },
   "outputs": [
    {
     "data": {
      "text/plain": [
       "{'max_error': 27060.0625, 'rmse': 14554.354534734577}"
      ]
     },
     "execution_count": 23,
     "metadata": {},
     "output_type": "execute_result"
    }
   ],
   "source": [
    "results3"
   ]
  },
  {
   "cell_type": "markdown",
   "metadata": {},
   "source": [
    "## Random Forest"
   ]
  },
  {
   "cell_type": "code",
   "execution_count": 24,
   "metadata": {
    "collapsed": false
   },
   "outputs": [
    {
     "data": {
      "text/html": [
       "<pre>Random forest regression:</pre>"
      ],
      "text/plain": [
       "Random forest regression:"
      ]
     },
     "metadata": {},
     "output_type": "display_data"
    },
    {
     "data": {
      "text/html": [
       "<pre>--------------------------------------------------------</pre>"
      ],
      "text/plain": [
       "--------------------------------------------------------"
      ]
     },
     "metadata": {},
     "output_type": "display_data"
    },
    {
     "data": {
      "text/html": [
       "<pre>Number of examples          : 106</pre>"
      ],
      "text/plain": [
       "Number of examples          : 106"
      ]
     },
     "metadata": {},
     "output_type": "display_data"
    },
    {
     "data": {
      "text/html": [
       "<pre>Number of features          : 6</pre>"
      ],
      "text/plain": [
       "Number of features          : 6"
      ]
     },
     "metadata": {},
     "output_type": "display_data"
    },
    {
     "data": {
      "text/html": [
       "<pre>Number of unpacked features : 6</pre>"
      ],
      "text/plain": [
       "Number of unpacked features : 6"
      ]
     },
     "metadata": {},
     "output_type": "display_data"
    },
    {
     "data": {
      "text/html": [
       "<pre>+-----------+--------------+--------------------+---------------+</pre>"
      ],
      "text/plain": [
       "+-----------+--------------+--------------------+---------------+"
      ]
     },
     "metadata": {},
     "output_type": "display_data"
    },
    {
     "data": {
      "text/html": [
       "<pre>| Iteration | Elapsed Time | Training-max_error | Training-rmse |</pre>"
      ],
      "text/plain": [
       "| Iteration | Elapsed Time | Training-max_error | Training-rmse |"
      ]
     },
     "metadata": {},
     "output_type": "display_data"
    },
    {
     "data": {
      "text/html": [
       "<pre>+-----------+--------------+--------------------+---------------+</pre>"
      ],
      "text/plain": [
       "+-----------+--------------+--------------------+---------------+"
      ]
     },
     "metadata": {},
     "output_type": "display_data"
    },
    {
     "data": {
      "text/html": [
       "<pre>| 1         | 0.001740     | 55683.859375       | 19588.666016  |</pre>"
      ],
      "text/plain": [
       "| 1         | 0.001740     | 55683.859375       | 19588.666016  |"
      ]
     },
     "metadata": {},
     "output_type": "display_data"
    },
    {
     "data": {
      "text/html": [
       "<pre>| 2         | 0.003310     | 54822.953125       | 19570.166016  |</pre>"
      ],
      "text/plain": [
       "| 2         | 0.003310     | 54822.953125       | 19570.166016  |"
      ]
     },
     "metadata": {},
     "output_type": "display_data"
    },
    {
     "data": {
      "text/html": [
       "<pre>| 3         | 0.004861     | 55115.281250       | 19601.289062  |</pre>"
      ],
      "text/plain": [
       "| 3         | 0.004861     | 55115.281250       | 19601.289062  |"
      ]
     },
     "metadata": {},
     "output_type": "display_data"
    },
    {
     "data": {
      "text/html": [
       "<pre>| 4         | 0.006265     | 55560.562500       | 19631.984375  |</pre>"
      ],
      "text/plain": [
       "| 4         | 0.006265     | 55560.562500       | 19631.984375  |"
      ]
     },
     "metadata": {},
     "output_type": "display_data"
    },
    {
     "data": {
      "text/html": [
       "<pre>| 5         | 0.007487     | 55719.109375       | 19635.105469  |</pre>"
      ],
      "text/plain": [
       "| 5         | 0.007487     | 55719.109375       | 19635.105469  |"
      ]
     },
     "metadata": {},
     "output_type": "display_data"
    },
    {
     "data": {
      "text/html": [
       "<pre>| 6         | 0.008689     | 55784.156250       | 19643.996094  |</pre>"
      ],
      "text/plain": [
       "| 6         | 0.008689     | 55784.156250       | 19643.996094  |"
      ]
     },
     "metadata": {},
     "output_type": "display_data"
    },
    {
     "data": {
      "text/html": [
       "<pre>| 11        | 0.014222     | 57113.562500       | 19297.904297  |</pre>"
      ],
      "text/plain": [
       "| 11        | 0.014222     | 57113.562500       | 19297.904297  |"
      ]
     },
     "metadata": {},
     "output_type": "display_data"
    },
    {
     "data": {
      "text/html": [
       "<pre>| 51        | 0.063044     | 58242.312500       | 19335.783203  |</pre>"
      ],
      "text/plain": [
       "| 51        | 0.063044     | 58242.312500       | 19335.783203  |"
      ]
     },
     "metadata": {},
     "output_type": "display_data"
    },
    {
     "data": {
      "text/html": [
       "<pre>| 101       | 0.117523     | 59027.640625       | 19205.845703  |</pre>"
      ],
      "text/plain": [
       "| 101       | 0.117523     | 59027.640625       | 19205.845703  |"
      ]
     },
     "metadata": {},
     "output_type": "display_data"
    },
    {
     "data": {
      "text/html": [
       "<pre>+-----------+--------------+--------------------+---------------+</pre>"
      ],
      "text/plain": [
       "+-----------+--------------+--------------------+---------------+"
      ]
     },
     "metadata": {},
     "output_type": "display_data"
    }
   ],
   "source": [
    "model4 = gl.random_forest_regression.create(train_data, target='Price',\n",
    "  features = [\n",
    " 'SqFt',\n",
    " 'Bedrooms',\n",
    " 'Bathrooms',\n",
    " 'Offers',\n",
    " 'Brick',\n",
    " 'Neighborhood'],\n",
    "max_iterations=200,\n",
    "max_depth =  10,validation_set=None)"
   ]
  },
  {
   "cell_type": "code",
   "execution_count": 27,
   "metadata": {
    "collapsed": false
   },
   "outputs": [
    {
     "data": {
      "text/plain": [
       "{'max_error': 36771.6328125, 'rmse': 14328.436365336142}"
      ]
     },
     "execution_count": 27,
     "metadata": {},
     "output_type": "execute_result"
    }
   ],
   "source": [
    "# First Predictions\n",
    "predictions4 = model4.predict(test_data)\n",
    "# Now Evaluations (we don't need to calculate predictions first to evaluate)\n",
    "results4 = model4.evaluate(test_data)\n",
    "# Show Results\n",
    "results4"
   ]
  },
  {
   "cell_type": "markdown",
   "metadata": {},
   "source": [
    "## An Aside on Cross Validation"
   ]
  },
  {
   "cell_type": "code",
   "execution_count": 28,
   "metadata": {
    "collapsed": true
   },
   "outputs": [],
   "source": [
    "folds = gl.cross_validation.KFold(data, 10)"
   ]
  },
  {
   "cell_type": "code",
   "execution_count": 33,
   "metadata": {
    "collapsed": true
   },
   "outputs": [],
   "source": [
    "params = dict([('target', 'Price')])"
   ]
  },
  {
   "cell_type": "code",
   "execution_count": 34,
   "metadata": {
    "collapsed": false
   },
   "outputs": [
    {
     "name": "stderr",
     "output_type": "stream",
     "text": [
      "[INFO] graphlab.deploy.job: Validating job.\n",
      "[INFO] graphlab.deploy.job: Creating a LocalAsync environment called 'async'.\n",
      "[INFO] graphlab.deploy.map_job: Validation complete. Job: 'Cross-Validation-Jun-15-2017-11-08-37-636035--7307728' ready for execution\n",
      "[INFO] graphlab.deploy.map_job: Job: 'Cross-Validation-Jun-15-2017-11-08-37-636035--7307728' scheduled.\n"
     ]
    }
   ],
   "source": [
    "job = gl.cross_validation.cross_val_score(folds,\n",
    "                                              gl.linear_regression.create,\n",
    "                                              params)"
   ]
  },
  {
   "cell_type": "code",
   "execution_count": 49,
   "metadata": {
    "collapsed": false
   },
   "outputs": [
    {
     "name": "stdout",
     "output_type": "stream",
     "text": [
      "OrderedDict([('models', [Class                          : LinearRegression\n",
      "\n",
      "Schema\n",
      "------\n",
      "Number of coefficients         : 9\n",
      "Number of examples             : 116\n",
      "Number of feature columns      : 7\n",
      "Number of unpacked features    : 7\n",
      "\n",
      "Hyperparameters\n",
      "---------------\n",
      "L1 penalty                     : 0.0\n",
      "L2 penalty                     : 0.01\n",
      "\n",
      "Training Summary\n",
      "----------------\n",
      "Solver                         : newton\n",
      "Solver iterations              : 1\n",
      "Solver status                  : SUCCESS: Optimal solution found.\n",
      "Training time (sec)            : 0.0011\n",
      "\n",
      "Settings\n",
      "--------\n",
      "Residual sum of squares        : 10774847018.0\n",
      "Training RMSE                  : 9637.7701\n",
      "\n",
      "Highest Positive Coefficients\n",
      "-----------------------------\n",
      "Neighborhood[West]             : 21843.7148\n",
      "Brick[Yes]                     : 16354.5967\n",
      "Bathrooms                      : 9923.577\n",
      "Bedrooms                       : 4246.6636\n",
      "(intercept)                    : 1453.7461\n",
      "\n",
      "Lowest Negative Coefficients\n",
      "----------------------------\n",
      "Offers                         : -8617.0119\n",
      "HomeID                         : -12.972\n",
      ", Class                          : LinearRegression\n",
      "\n",
      "Schema\n",
      "------\n",
      "Number of coefficients         : 9\n",
      "Number of examples             : 116\n",
      "Number of feature columns      : 7\n",
      "Number of unpacked features    : 7\n",
      "\n",
      "Hyperparameters\n",
      "---------------\n",
      "L1 penalty                     : 0.0\n",
      "L2 penalty                     : 0.01\n",
      "\n",
      "Training Summary\n",
      "----------------\n",
      "Solver                         : newton\n",
      "Solver iterations              : 1\n",
      "Solver status                  : SUCCESS: Optimal solution found.\n",
      "Training time (sec)            : 0.0011\n",
      "\n",
      "Settings\n",
      "--------\n",
      "Residual sum of squares        : 10329854657.7\n",
      "Training RMSE                  : 9436.6557\n",
      "\n",
      "Highest Positive Coefficients\n",
      "-----------------------------\n",
      "Neighborhood[West]             : 21144.7776\n",
      "Brick[Yes]                     : 17712.9875\n",
      "Bathrooms                      : 7576.3962\n",
      "Bedrooms                       : 4950.2391\n",
      "(intercept)                    : 737.3489\n",
      "\n",
      "Lowest Negative Coefficients\n",
      "----------------------------\n",
      "Offers                         : -7464.2635\n",
      "Neighborhood[North]            : -181.3853\n",
      ", Class                          : LinearRegression\n",
      "\n",
      "Schema\n",
      "------\n",
      "Number of coefficients         : 9\n",
      "Number of examples             : 115\n",
      "Number of feature columns      : 7\n",
      "Number of unpacked features    : 7\n",
      "\n",
      "Hyperparameters\n",
      "---------------\n",
      "L1 penalty                     : 0.0\n",
      "L2 penalty                     : 0.01\n",
      "\n",
      "Training Summary\n",
      "----------------\n",
      "Solver                         : newton\n",
      "Solver iterations              : 1\n",
      "Solver status                  : SUCCESS: Optimal solution found.\n",
      "Training time (sec)            : 0.0013\n",
      "\n",
      "Settings\n",
      "--------\n",
      "Residual sum of squares        : 10097546615.2\n",
      "Training RMSE                  : 9370.4191\n",
      "\n",
      "Highest Positive Coefficients\n",
      "-----------------------------\n",
      "Neighborhood[West]             : 21952.7746\n",
      "Brick[Yes]                     : 18380.7406\n",
      "Bathrooms                      : 8879.2183\n",
      "Bedrooms                       : 4101.2654\n",
      "(intercept)                    : 3519.4145\n",
      "\n",
      "Lowest Negative Coefficients\n",
      "----------------------------\n",
      "Offers                         : -8429.584\n",
      "HomeID                         : -14.105\n",
      ", Class                          : LinearRegression\n",
      "\n",
      "Schema\n",
      "------\n",
      "Number of coefficients         : 9\n",
      "Number of examples             : 115\n",
      "Number of feature columns      : 7\n",
      "Number of unpacked features    : 7\n",
      "\n",
      "Hyperparameters\n",
      "---------------\n",
      "L1 penalty                     : 0.0\n",
      "L2 penalty                     : 0.01\n",
      "\n",
      "Training Summary\n",
      "----------------\n",
      "Solver                         : newton\n",
      "Solver iterations              : 1\n",
      "Solver status                  : SUCCESS: Optimal solution found.\n",
      "Training time (sec)            : 1.0051\n",
      "\n",
      "Settings\n",
      "--------\n",
      "Residual sum of squares        : 11554581138.9\n",
      "Training RMSE                  : 10023.7028\n",
      "\n",
      "Highest Positive Coefficients\n",
      "-----------------------------\n",
      "Neighborhood[West]             : 20769.1603\n",
      "(intercept)                    : 18336.3349\n",
      "Bathrooms                      : 7746.8589\n",
      "Bedrooms                       : 4392.5251\n",
      "SqFt                           : 53.7973\n",
      "\n",
      "Lowest Negative Coefficients\n",
      "----------------------------\n",
      "Brick[No]                      : -17009.2856\n",
      "Offers                         : -8263.4878\n",
      "Neighborhood[East]             : -1040.4089\n",
      "HomeID                         : -14.1322\n",
      ", Class                          : LinearRegression\n",
      "\n",
      "Schema\n",
      "------\n",
      "Number of coefficients         : 9\n",
      "Number of examples             : 115\n",
      "Number of feature columns      : 7\n",
      "Number of unpacked features    : 7\n",
      "\n",
      "Hyperparameters\n",
      "---------------\n",
      "L1 penalty                     : 0.0\n",
      "L2 penalty                     : 0.01\n",
      "\n",
      "Training Summary\n",
      "----------------\n",
      "Solver                         : newton\n",
      "Solver iterations              : 1\n",
      "Solver status                  : SUCCESS: Optimal solution found.\n",
      "Training time (sec)            : 0.0012\n",
      "\n",
      "Settings\n",
      "--------\n",
      "Residual sum of squares        : 11054153310.6\n",
      "Training RMSE                  : 9804.2375\n",
      "\n",
      "Highest Positive Coefficients\n",
      "-----------------------------\n",
      "Neighborhood[West]             : 23713.6794\n",
      "Brick[Yes]                     : 16664.388\n",
      "Bathrooms                      : 8793.4367\n",
      "Bedrooms                       : 4406.0074\n",
      "Neighborhood[North]            : 2618.1736\n",
      "\n",
      "Lowest Negative Coefficients\n",
      "----------------------------\n",
      "Offers                         : -7931.1232\n",
      "HomeID                         : -5.9198\n",
      ", Class                          : LinearRegression\n",
      "\n",
      "Schema\n",
      "------\n",
      "Number of coefficients         : 9\n",
      "Number of examples             : 115\n",
      "Number of feature columns      : 7\n",
      "Number of unpacked features    : 7\n",
      "\n",
      "Hyperparameters\n",
      "---------------\n",
      "L1 penalty                     : 0.0\n",
      "L2 penalty                     : 0.01\n",
      "\n",
      "Training Summary\n",
      "----------------\n",
      "Solver                         : newton\n",
      "Solver iterations              : 1\n",
      "Solver status                  : SUCCESS: Optimal solution found.\n",
      "Training time (sec)            : 0.0009\n",
      "\n",
      "Settings\n",
      "--------\n",
      "Residual sum of squares        : 10536065247.8\n",
      "Training RMSE                  : 9571.727\n",
      "\n",
      "Highest Positive Coefficients\n",
      "-----------------------------\n",
      "Neighborhood[West]             : 21691.3855\n",
      "Brick[Yes]                     : 17974.7903\n",
      "Bathrooms                      : 8374.3817\n",
      "Bedrooms                       : 4260.0163\n",
      "Neighborhood[North]            : 1881.5747\n",
      "\n",
      "Lowest Negative Coefficients\n",
      "----------------------------\n",
      "Offers                         : -8130.1922\n",
      "HomeID                         : -23.8688\n",
      ", Class                          : LinearRegression\n",
      "\n",
      "Schema\n",
      "------\n",
      "Number of coefficients         : 9\n",
      "Number of examples             : 115\n",
      "Number of feature columns      : 7\n",
      "Number of unpacked features    : 7\n",
      "\n",
      "Hyperparameters\n",
      "---------------\n",
      "L1 penalty                     : 0.0\n",
      "L2 penalty                     : 0.01\n",
      "\n",
      "Training Summary\n",
      "----------------\n",
      "Solver                         : newton\n",
      "Solver iterations              : 1\n",
      "Solver status                  : SUCCESS: Optimal solution found.\n",
      "Training time (sec)            : 0.0012\n",
      "\n",
      "Settings\n",
      "--------\n",
      "Residual sum of squares        : 10049061694.1\n",
      "Training RMSE                  : 9347.8952\n",
      "\n",
      "Highest Positive Coefficients\n",
      "-----------------------------\n",
      "Neighborhood[West]             : 22833.8183\n",
      "Brick[Yes]                     : 17617.0709\n",
      "Bathrooms                      : 6286.8804\n",
      "Bedrooms                       : 3276.534\n",
      "Neighborhood[North]            : 2748.9109\n",
      "\n",
      "Lowest Negative Coefficients\n",
      "----------------------------\n",
      "Offers                         : -8764.7619\n",
      "(intercept)                    : -2806.6057\n",
      "HomeID                         : -16.9435\n",
      ", Class                          : LinearRegression\n",
      "\n",
      "Schema\n",
      "------\n",
      "Number of coefficients         : 9\n",
      "Number of examples             : 115\n",
      "Number of feature columns      : 7\n",
      "Number of unpacked features    : 7\n",
      "\n",
      "Hyperparameters\n",
      "---------------\n",
      "L1 penalty                     : 0.0\n",
      "L2 penalty                     : 0.01\n",
      "\n",
      "Training Summary\n",
      "----------------\n",
      "Solver                         : newton\n",
      "Solver iterations              : 1\n",
      "Solver status                  : SUCCESS: Optimal solution found.\n",
      "Training time (sec)            : 0.001\n",
      "\n",
      "Settings\n",
      "--------\n",
      "Residual sum of squares        : 11186184154.3\n",
      "Training RMSE                  : 9862.6146\n",
      "\n",
      "Highest Positive Coefficients\n",
      "-----------------------------\n",
      "Neighborhood[West]             : 22897.6558\n",
      "Brick[Yes]                     : 16959.2527\n",
      "Bathrooms                      : 8264.2267\n",
      "Bedrooms                       : 4815.1451\n",
      "(intercept)                    : 3924.7011\n",
      "\n",
      "Lowest Negative Coefficients\n",
      "----------------------------\n",
      "Offers                         : -8041.1785\n",
      "HomeID                         : -6.1077\n",
      ", Class                          : LinearRegression\n",
      "\n",
      "Schema\n",
      "------\n",
      "Number of coefficients         : 9\n",
      "Number of examples             : 115\n",
      "Number of feature columns      : 7\n",
      "Number of unpacked features    : 7\n",
      "\n",
      "Hyperparameters\n",
      "---------------\n",
      "L1 penalty                     : 0.0\n",
      "L2 penalty                     : 0.01\n",
      "\n",
      "Training Summary\n",
      "----------------\n",
      "Solver                         : newton\n",
      "Solver iterations              : 1\n",
      "Solver status                  : SUCCESS: Optimal solution found.\n",
      "Training time (sec)            : 0.0012\n",
      "\n",
      "Settings\n",
      "--------\n",
      "Residual sum of squares        : 9815111038.43\n",
      "Training RMSE                  : 9238.441\n",
      "\n",
      "Highest Positive Coefficients\n",
      "-----------------------------\n",
      "Neighborhood[West]             : 22919.5493\n",
      "Brick[Yes]                     : 17817.9574\n",
      "Bathrooms                      : 6683.6339\n",
      "(intercept)                    : 5300.2462\n",
      "Bedrooms                       : 3760.5467\n",
      "\n",
      "Lowest Negative Coefficients\n",
      "----------------------------\n",
      "Offers                         : -8913.0494\n",
      "HomeID                         : -17.5618\n",
      ", Class                          : LinearRegression\n",
      "\n",
      "Schema\n",
      "------\n",
      "Number of coefficients         : 9\n",
      "Number of examples             : 115\n",
      "Number of feature columns      : 7\n",
      "Number of unpacked features    : 7\n",
      "\n",
      "Hyperparameters\n",
      "---------------\n",
      "L1 penalty                     : 0.0\n",
      "L2 penalty                     : 0.01\n",
      "\n",
      "Training Summary\n",
      "----------------\n",
      "Solver                         : newton\n",
      "Solver iterations              : 1\n",
      "Solver status                  : SUCCESS: Optimal solution found.\n",
      "Training time (sec)            : 0.0012\n",
      "\n",
      "Settings\n",
      "--------\n",
      "Residual sum of squares        : 11741913319.4\n",
      "Training RMSE                  : 10104.6323\n",
      "\n",
      "Highest Positive Coefficients\n",
      "-----------------------------\n",
      "Neighborhood[West]             : 21848.0611\n",
      "Brick[Yes]                     : 16924.443\n",
      "Bathrooms                      : 7791.0835\n",
      "Bedrooms                       : 3896.309\n",
      "Neighborhood[North]            : 1416.5653\n",
      "\n",
      "Lowest Negative Coefficients\n",
      "----------------------------\n",
      "Offers                         : -8332.3569\n",
      "(intercept)                    : -113.7963\n",
      "HomeID                         : -17.4697\n",
      "]), ('summary', Columns:\n",
      "\ttarget\tstr\n",
      "\ttraining_rmse\tfloat\n",
      "\tvalidation_rmse\tfloat\n",
      "\tfold_id\tint\n",
      "\tmodel_id\tint\n",
      "\n",
      "Rows: 10\n",
      "\n",
      "Data:\n",
      "+--------+---------------+-----------------+---------+----------+\n",
      "| target | training_rmse | validation_rmse | fold_id | model_id |\n",
      "+--------+---------------+-----------------+---------+----------+\n",
      "| Price  | 9637.77008567 |  10848.9931107  |    9    |    9     |\n",
      "| Price  |  9436.6557205 |  13233.1571746  |    8    |    8     |\n",
      "| Price  | 9370.41905019 |  12540.2680705  |    1    |    1     |\n",
      "| Price  | 10023.7028387 |  6148.56078052  |    0    |    0     |\n",
      "| Price  | 9804.23746478 |  9166.10315424  |    3    |    3     |\n",
      "| Price  | 9571.72704773 |   11045.819846  |    2    |    2     |\n",
      "| Price  | 9347.89522652 |  12856.1194064  |    5    |    5     |\n",
      "| Price  | 9862.61459041 |  8353.96562864  |    4    |    4     |\n",
      "| Price  | 9238.44097446 |  13501.6646966  |    7    |    7     |\n",
      "| Price  | 10104.6323081 |  4983.13037246  |    6    |    6     |\n",
      "+--------+---------------+-----------------+---------+----------+\n",
      "[10 rows x 5 columns]\n",
      ")])\n"
     ]
    }
   ],
   "source": [
    "print job.get_results()"
   ]
  },
  {
   "cell_type": "code",
   "execution_count": null,
   "metadata": {
    "collapsed": true
   },
   "outputs": [],
   "source": []
  }
 ],
 "metadata": {
  "kernelspec": {
   "display_name": "Python 2",
   "language": "python",
   "name": "python2"
  },
  "language_info": {
   "codemirror_mode": {
    "name": "ipython",
    "version": 2
   },
   "file_extension": ".py",
   "mimetype": "text/x-python",
   "name": "python",
   "nbconvert_exporter": "python",
   "pygments_lexer": "ipython2",
   "version": "2.7.11"
  }
 },
 "nbformat": 4,
 "nbformat_minor": 0
}
